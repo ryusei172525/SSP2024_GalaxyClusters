{
 "cells": [
  {
   "cell_type": "code",
   "execution_count": 8,
   "metadata": {},
   "outputs": [],
   "source": [
    "from astropy.io import fits\n",
    "import matplotlib.pyplot as plt\n",
    "import pandas as pd"
   ]
  },
  {
   "cell_type": "markdown",
   "metadata": {},
   "source": [
    "## R = 1:1, b = 0 kpc, t=0.0Gyr"
   ]
  },
  {
   "cell_type": "code",
   "execution_count": 9,
   "metadata": {},
   "outputs": [
    {
     "name": "stdout",
     "output_type": "stream",
     "text": [
      "Filename: images/fiducial_1to1_b0_hdf5_plt_cnt_0000_slice.t=0.00.fits\n",
      "No.    Name      Ver    Type      Cards   Dimensions   Format\n",
      "  0  DENSITY       1 PrimaryHDU      23   (2048, 2048)   float64   \n",
      "  1  VELOCITY_Y    1 ImageHDU        24   (2048, 2048)   float64   \n",
      "  2  VELOCITY_X    1 ImageHDU        24   (2048, 2048)   float64   \n",
      "  3  KT            1 ImageHDU        24   (2048, 2048)   float64   \n",
      "  4  CLR2          1 ImageHDU        24   (2048, 2048)   float64   \n",
      "  5  DARK_MATTER_DENSITY    1 ImageHDU        24   (2048, 2048)   float64   \n",
      "  6  CLR1          1 ImageHDU        24   (2048, 2048)   float64   \n"
     ]
    }
   ],
   "source": [
    "hdul = fits.open(\"images/fiducial_1to1_b0_hdf5_plt_cnt_0000_slice.t=0.00.fits\")\n",
    "hdul.info()"
   ]
  },
  {
   "cell_type": "markdown",
   "metadata": {},
   "source": [
    "## R = 1:1, b = 0 kpc, t=1.34Gyr"
   ]
  },
  {
   "cell_type": "code",
   "execution_count": 10,
   "metadata": {},
   "outputs": [
    {
     "name": "stdout",
     "output_type": "stream",
     "text": [
      "Filename: images/fiducial_1to1_b0_hdf5_plt_cnt_0067_slice.t=1.34.fits\n",
      "No.    Name      Ver    Type      Cards   Dimensions   Format\n",
      "  0  CLR1          1 PrimaryHDU      23   (2048, 2048)   float64   \n",
      "  1  DARK_MATTER_DENSITY    1 ImageHDU        24   (2048, 2048)   float64   \n",
      "  2  DENSITY       1 ImageHDU        24   (2048, 2048)   float64   \n",
      "  3  KT            1 ImageHDU        24   (2048, 2048)   float64   \n",
      "  4  VELOCITY_X    1 ImageHDU        24   (2048, 2048)   float64   \n",
      "  5  CLR2          1 ImageHDU        24   (2048, 2048)   float64   \n",
      "  6  VELOCITY_Y    1 ImageHDU        24   (2048, 2048)   float64   \n"
     ]
    }
   ],
   "source": [
    "hdul = fits.open(\"images/fiducial_1to1_b0_hdf5_plt_cnt_0067_slice.t=1.34.fits\")\n",
    "hdul.info()"
   ]
  },
  {
   "cell_type": "markdown",
   "metadata": {},
   "source": [
    "## R = 1:1, b = 0 kpc, t=1.50Gyr"
   ]
  },
  {
   "cell_type": "code",
   "execution_count": 11,
   "metadata": {},
   "outputs": [
    {
     "name": "stdout",
     "output_type": "stream",
     "text": [
      "Filename: images/fiducial_1to1_b0_hdf5_plt_cnt_0075_slice.t=1.50.fits\n",
      "No.    Name      Ver    Type      Cards   Dimensions   Format\n",
      "  0  DENSITY       1 PrimaryHDU      23   (2048, 2048)   float64   \n",
      "  1  VELOCITY_Y    1 ImageHDU        24   (2048, 2048)   float64   \n",
      "  2  VELOCITY_X    1 ImageHDU        24   (2048, 2048)   float64   \n",
      "  3  KT            1 ImageHDU        24   (2048, 2048)   float64   \n",
      "  4  CLR2          1 ImageHDU        24   (2048, 2048)   float64   \n",
      "  5  DARK_MATTER_DENSITY    1 ImageHDU        24   (2048, 2048)   float64   \n",
      "  6  CLR1          1 ImageHDU        24   (2048, 2048)   float64   \n"
     ]
    }
   ],
   "source": [
    "hdul = fits.open(\"images/fiducial_1to1_b0_hdf5_plt_cnt_0075_slice.t=1.50.fits\")\n",
    "hdul.info()"
   ]
  },
  {
   "cell_type": "markdown",
   "metadata": {},
   "source": [
    "## R = 1:1, b = 0 kpc, t=1.60Gyr"
   ]
  },
  {
   "cell_type": "code",
   "execution_count": 14,
   "metadata": {},
   "outputs": [
    {
     "name": "stdout",
     "output_type": "stream",
     "text": [
      "Filename: images/fiducial_1to1_b0_hdf5_plt_cnt_0080_slice.t=1.60.fits\n",
      "No.    Name      Ver    Type      Cards   Dimensions   Format\n",
      "  0  DENSITY       1 PrimaryHDU      23   (2048, 2048)   float64   \n",
      "  1  VELOCITY_Y    1 ImageHDU        24   (2048, 2048)   float64   \n"
     ]
    },
    {
     "name": "stderr",
     "output_type": "stream",
     "text": [
      "WARNING: File may have been truncated: actual file length (48758784) is smaller than the expected size (67115520) [astropy.io.fits.file]\n"
     ]
    }
   ],
   "source": [
    "hdul = fits.open(\"images/fiducial_1to1_b0_hdf5_plt_cnt_0080_slice.t=1.60.fits\")\n",
    "hdul.info()"
   ]
  }
 ],
 "metadata": {
  "kernelspec": {
   "display_name": "Clusters",
   "language": "python",
   "name": "python3"
  },
  "language_info": {
   "codemirror_mode": {
    "name": "ipython",
    "version": 3
   },
   "file_extension": ".py",
   "mimetype": "text/x-python",
   "name": "python",
   "nbconvert_exporter": "python",
   "pygments_lexer": "ipython3",
   "version": "3.12.4"
  }
 },
 "nbformat": 4,
 "nbformat_minor": 2
}

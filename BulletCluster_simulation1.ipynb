{
 "cells": [
  {
   "cell_type": "code",
   "execution_count": 2,
   "metadata": {},
   "outputs": [
    {
     "name": "stdout",
     "output_type": "stream",
     "text": [
      "Completed Monte Carlo iteration 10 of 5000.\n",
      "~14 minutes remaining\n",
      "Completed Monte Carlo iteration 100 of 5000.\n",
      "~14 minutes remaining\n",
      "Completed Monte Carlo iteration 1000 of 5000.\n",
      "~12 minutes remaining\n",
      "Completed Monte Carlo iteration 2000 of 5000.\n",
      "~9 minutes remaining\n",
      "Completed Monte Carlo iteration 3000 of 5000.\n",
      "~6 minutes remaining\n",
      "Completed Monte Carlo iteration 4000 of 5000.\n",
      "~3 minutes remaining\n",
      "Completed Monte Carlo iteration 5000 of 5000.\n",
      "~0 minutes remaining\n"
     ]
    }
   ],
   "source": [
    "from MCMAC import MCengine \n",
    "\n",
    "# Setting simulation parameters (define prior distributions)\n",
    "N_mc = 5000  # Number of Monte Carlo samples\n",
    "# (mean value, standard deviation)\n",
    "M1 = (15e14, 1.5e14)  # Mass distribution of galaxy cluster 1\n",
    "M2 = (1.5e14, 0.15e14)  # Mass distribution of galaxy cluster 2\n",
    "Z1 = (0.29560, 0.00023)  # Redshift distribution of galaxy cluster 1\n",
    "Z2 = (0.29826, 0.00014)  # Redshift distribution of galaxy cluster 2\n",
    "D_proj = (0.72, 0.025, 0.025)  # Projected separation distance distribution (mean 720 kpc, standard deviation 25 kpc)\n",
    "prefix = \"BulletCluster/simulation_output\"  # Prefix for output file names\n",
    "\n",
    "# Execute simulation (derive posterior distributions of dynamical properties such as collision velocity, time since collision, etc.)\n",
    "m_1_out, m_2_out, z_1_out, z_2_out, d_proj_out, v_rad_obs_out, alpha_out, v_3d_obs_out, d_3d_out, v_3d_col_out, d_max_out, TSM_0_out, TSM_1_out, T_out, prob_out = MCengine(N_mc, M1, M2, Z1, Z2, D_proj, prefix)\n"
   ]
  }
 ],
 "metadata": {
  "kernelspec": {
   "display_name": "Clusters",
   "language": "python",
   "name": "python3"
  },
  "language_info": {
   "codemirror_mode": {
    "name": "ipython",
    "version": 3
   },
   "file_extension": ".py",
   "mimetype": "text/x-python",
   "name": "python",
   "nbconvert_exporter": "python",
   "pygments_lexer": "ipython3",
   "version": "undefined.undefined.undefined"
  }
 },
 "nbformat": 4,
 "nbformat_minor": 2
}
